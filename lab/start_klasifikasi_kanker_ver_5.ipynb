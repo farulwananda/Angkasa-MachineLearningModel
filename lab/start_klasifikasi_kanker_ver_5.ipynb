{
  "cells": [
    {
      "cell_type": "code",
      "execution_count": 94,
      "metadata": {
        "id": "Zp0_rPwa1goy"
      },
      "outputs": [],
      "source": [
        "import tensorflow as tf\n",
        "from tensorflow.keras.preprocessing.image import ImageDataGenerator\n",
        "from tensorflow.keras.models import save_model\n",
        "import glob\n",
        "import os \n",
        "import numpy as np\n",
        "from tensorflow.keras import Model\n",
        "from tensorflow.keras.preprocessing import image\n",
        "from tensorflow.keras.layers import Dropout\n",
        "from tensorflow.keras.optimizers import Adam\n",
        "from keras.optimizers import SGD\n",
        "from tensorflow.keras.models import Sequential\n",
        "import matplotlib.pyplot as plt\n",
        "import matplotlib.image as mpimg\n",
        "from google.colab import files\n",
        "%matplotlib inline"
      ]
    },
    {
      "cell_type": "code",
      "execution_count": 95,
      "metadata": {
        "colab": {
          "base_uri": "https://localhost:8080/"
        },
        "id": "56m0OuvIkqKD",
        "outputId": "fe2f7936-b4bc-4de7-bb58-6d2797c6e237"
      },
      "outputs": [
        {
          "output_type": "stream",
          "name": "stdout",
          "text": [
            "Drive already mounted at /content/drive; to attempt to forcibly remount, call drive.mount(\"/content/drive\", force_remount=True).\n"
          ]
        }
      ],
      "source": [
        "from google.colab import drive\n",
        "drive.mount('/content/drive')"
      ]
    },
    {
      "cell_type": "markdown",
      "metadata": {
        "id": "UAAVKUctT8XF"
      },
      "source": []
    },
    {
      "cell_type": "code",
      "execution_count": 96,
      "metadata": {
        "id": "WyQhY6zp3nKk"
      },
      "outputs": [],
      "source": [
        "base_dir = '/content/drive/MyDrive/Colab Notebooks/assets-cancer'\n",
        "basal_dir = os.path.join(base_dir, 'basal')\n",
        "melanoma_dir = os.path.join(base_dir, 'melanoma')\n",
        "vascular_dir = os.path.join(base_dir, 'vascular')"
      ]
    },
    {
      "cell_type": "code",
      "execution_count": 97,
      "metadata": {
        "colab": {
          "base_uri": "https://localhost:8080/"
        },
        "id": "TDYNhU6G4Hix",
        "outputId": "812bc43d-dbc8-4d28-a620-5322f81c9eb6"
      },
      "outputs": [
        {
          "output_type": "execute_result",
          "data": {
            "text/plain": [
              "['basal', 'melanoma', 'vascular']"
            ]
          },
          "metadata": {},
          "execution_count": 97
        }
      ],
      "source": [
        "os.listdir('/content/drive/MyDrive/Colab Notebooks/assets-cancer')"
      ]
    },
    {
      "cell_type": "code",
      "execution_count": 98,
      "metadata": {
        "colab": {
          "base_uri": "https://localhost:8080/"
        },
        "id": "FbXbLCXiVVvd",
        "outputId": "bbd2cbd9-8d80-4744-cb3a-9e9aab25a799"
      },
      "outputs": [
        {
          "output_type": "stream",
          "name": "stdout",
          "text": [
            "Total Data Image          :  390\n",
            "Total Data Basal          :  130\n",
            "Total Data Melanoma       :  130\n",
            "Total Data Vascular       :  130\n"
          ]
        }
      ],
      "source": [
        "total_image = len(list(glob.iglob(\"/content/drive/MyDrive/Colab Notebooks/assets-cancer/*/*.*\", recursive=True)))\n",
        "print(\"Total Data Image          : \",total_image)\n",
        "\n",
        "total_basal = len(os.listdir(basal_dir))\n",
        "total_melanoma = len(os.listdir(melanoma_dir))\n",
        "total_vascular = len(os.listdir(vascular_dir))\n",
        "\n",
        "# Mencetak jumlah data kanker kulit basal, melanoma, vascular\n",
        "print(\"Total Data Basal          : \",total_basal)\n",
        "print(\"Total Data Melanoma       : \",total_melanoma)\n",
        "print(\"Total Data Vascular       : \",total_vascular)"
      ]
    },
    {
      "cell_type": "markdown",
      "source": [
        "**Implementasi augmentasi citra dengan Image Data Generator**"
      ],
      "metadata": {
        "id": "6zJuPzquKrKp"
      }
    },
    {
      "cell_type": "code",
      "execution_count": 99,
      "metadata": {
        "id": "0lrV7WCN5fgq"
      },
      "outputs": [],
      "source": [
        "train_datagen = ImageDataGenerator(\n",
        "    rescale=1./255,\n",
        "    rotation_range=30,\n",
        "    horizontal_flip=True,\n",
        "    fill_mode = 'nearest',\n",
        "    validation_split = 0.2\n",
        ")\n",
        " \n",
        "val_datagen = ImageDataGenerator(\n",
        "    rescale=1./255,\n",
        "    rotation_range=30,\n",
        "    horizontal_flip=True,\n",
        "    fill_mode = 'nearest',\n",
        "    validation_split = 0.2                                    \n",
        ")"
      ]
    },
    {
      "cell_type": "markdown",
      "source": [
        "**Melakukan pemisahan dataset menjadi train dan validation**"
      ],
      "metadata": {
        "id": "DFL77jZlLdMI"
      }
    },
    {
      "cell_type": "code",
      "execution_count": 100,
      "metadata": {
        "colab": {
          "base_uri": "https://localhost:8080/"
        },
        "id": "lZgrV-AW5t98",
        "outputId": "a1dad8af-0715-4181-efd0-913e4b612c53"
      },
      "outputs": [
        {
          "output_type": "stream",
          "name": "stdout",
          "text": [
            "Found 312 images belonging to 3 classes.\n",
            "Found 78 images belonging to 3 classes.\n"
          ]
        }
      ],
      "source": [
        "train_generator = train_datagen.flow_from_directory(\n",
        "    base_dir,\n",
        "    target_size = (128,128),\n",
        "    batch_size = 16,\n",
        "    shuffle = True,\n",
        "    color_mode = \"rgb\",\n",
        "    class_mode = \"categorical\",\n",
        "    subset = \"training\"\n",
        "    \n",
        ")\n",
        "\n",
        "validation_generator = val_datagen.flow_from_directory(\n",
        "    base_dir,\n",
        "    target_size = (128,128),\n",
        "    batch_size = 16,\n",
        "    shuffle = True,\n",
        "    color_mode = \"rgb\",\n",
        "    class_mode = \"categorical\",\n",
        "    subset = \"validation\"\n",
        "    \n",
        ")"
      ]
    },
    {
      "cell_type": "code",
      "execution_count": 101,
      "metadata": {
        "id": "6r4PWWzf7eyq"
      },
      "outputs": [],
      "source": [
        "model = tf.keras.models.Sequential([\n",
        "    tf.keras.layers.Conv2D(32, (3,3), strides = (1,1),  activation='relu', input_shape=(128, 128, 3)),\n",
        "    tf.keras.layers.MaxPooling2D(pool_size = (2,2), padding = 'valid'), \n",
        "    tf.keras.layers.Conv2D(64, (3,3), strides = (1,1), activation='relu'),\n",
        "    tf.keras.layers.MaxPooling2D(pool_size = (2,2), padding = 'valid'),\n",
        "    tf.keras.layers.Conv2D(128, (3,3), strides = (1,1), activation='relu'),\n",
        "    tf.keras.layers.MaxPooling2D(pool_size = (2,2), padding = 'valid'),\n",
        "    tf.keras.layers.Flatten(),\n",
        "    tf.keras.layers.Dropout(0.5),\n",
        "    \n",
        "    tf.keras.layers.Dense(128, activation='relu'),\n",
        "    tf.keras.layers.Dense(3, activation='softmax',kernel_regularizer=tf.keras.regularizers.l2(0.001))\n",
        "])\n"
      ]
    },
    {
      "cell_type": "code",
      "execution_count": 102,
      "metadata": {
        "id": "O_swcwPA7h10"
      },
      "outputs": [],
      "source": [
        "Adam(learning_rate=0.001, name='Adam')\n",
        "model.compile(optimizer = 'Adam',loss = 'categorical_crossentropy',metrics = ['accuracy'])"
      ]
    },
    {
      "cell_type": "code",
      "source": [
        "def scheduler(epoch, lr):\n",
        "  if epoch < 5:\n",
        "    return lr\n",
        "  else:\n",
        "    return lr * tf.math.exp(-0.1)\n",
        "\n",
        "lr_schedule = tf.keras.callbacks.LearningRateScheduler(scheduler, verbose=1)\n",
        "tb_callback = tf.keras.callbacks.TensorBoard(\n",
        "    log_dir='logs', histogram_freq=0, write_graph=True, write_images=False,\n",
        "    update_freq='epoch', embeddings_freq=0,\n",
        "    embeddings_metadata=None\n",
        ")\n",
        "\n",
        "model.summary()"
      ],
      "metadata": {
        "colab": {
          "base_uri": "https://localhost:8080/"
        },
        "id": "lYwTYruiJ4Cd",
        "outputId": "be02dc4c-0f07-48c7-d58e-1797c202e77c"
      },
      "execution_count": 103,
      "outputs": [
        {
          "output_type": "stream",
          "name": "stdout",
          "text": [
            "Model: \"sequential_7\"\n",
            "_________________________________________________________________\n",
            " Layer (type)                Output Shape              Param #   \n",
            "=================================================================\n",
            " conv2d_20 (Conv2D)          (None, 126, 126, 32)      896       \n",
            "                                                                 \n",
            " max_pooling2d_20 (MaxPoolin  (None, 63, 63, 32)       0         \n",
            " g2D)                                                            \n",
            "                                                                 \n",
            " conv2d_21 (Conv2D)          (None, 61, 61, 64)        18496     \n",
            "                                                                 \n",
            " max_pooling2d_21 (MaxPoolin  (None, 30, 30, 64)       0         \n",
            " g2D)                                                            \n",
            "                                                                 \n",
            " conv2d_22 (Conv2D)          (None, 28, 28, 128)       73856     \n",
            "                                                                 \n",
            " max_pooling2d_22 (MaxPoolin  (None, 14, 14, 128)      0         \n",
            " g2D)                                                            \n",
            "                                                                 \n",
            " flatten_7 (Flatten)         (None, 25088)             0         \n",
            "                                                                 \n",
            " dropout_8 (Dropout)         (None, 25088)             0         \n",
            "                                                                 \n",
            " dense_14 (Dense)            (None, 128)               3211392   \n",
            "                                                                 \n",
            " dense_15 (Dense)            (None, 3)                 387       \n",
            "                                                                 \n",
            "=================================================================\n",
            "Total params: 3,305,027\n",
            "Trainable params: 3,305,027\n",
            "Non-trainable params: 0\n",
            "_________________________________________________________________\n"
          ]
        }
      ]
    },
    {
      "cell_type": "code",
      "execution_count": 104,
      "metadata": {
        "id": "0_ySsb4T7lG9"
      },
      "outputs": [],
      "source": [
        "accuracy = 0.97\n",
        "\n",
        "class func_callback(tf.keras.callbacks.Callback):\n",
        "\tdef on_epoch_end(self, epoch, logs={}):\n",
        "\t\tif(logs.get('accuracy') >= accuracy):\n",
        "\t\t\tprint(\"Akurasi Telah Mencapai %2.2f%% , Proses Training Dihentikan.\" %(accuracy*100))\n",
        "\t\t\tself.model.stop_training = True\n",
        "      \n",
        "callback = func_callback()"
      ]
    },
    {
      "cell_type": "code",
      "execution_count": 105,
      "metadata": {
        "colab": {
          "base_uri": "https://localhost:8080/"
        },
        "id": "fWxXOo6q7noP",
        "outputId": "f1f07e3e-afc4-45d4-9878-739d77715f8a"
      },
      "outputs": [
        {
          "output_type": "stream",
          "name": "stdout",
          "text": [
            "\n",
            "Epoch 1: LearningRateScheduler setting learning rate to 0.0010000000474974513.\n",
            "Epoch 1/25\n",
            "19/19 - 10s - loss: 1.0670 - accuracy: 0.4628 - val_loss: 0.7943 - val_accuracy: 0.6250 - lr: 0.0010 - 10s/epoch - 505ms/step\n",
            "\n",
            "Epoch 2: LearningRateScheduler setting learning rate to 0.0010000000474974513.\n",
            "Epoch 2/25\n",
            "19/19 - 9s - loss: 0.7642 - accuracy: 0.6588 - val_loss: 0.7492 - val_accuracy: 0.6406 - lr: 0.0010 - 9s/epoch - 460ms/step\n",
            "\n",
            "Epoch 3: LearningRateScheduler setting learning rate to 0.0010000000474974513.\n",
            "Epoch 3/25\n",
            "19/19 - 9s - loss: 0.5661 - accuracy: 0.7669 - val_loss: 0.7305 - val_accuracy: 0.8125 - lr: 0.0010 - 9s/epoch - 458ms/step\n",
            "\n",
            "Epoch 4: LearningRateScheduler setting learning rate to 0.0010000000474974513.\n",
            "Epoch 4/25\n",
            "19/19 - 9s - loss: 0.5107 - accuracy: 0.7872 - val_loss: 0.6588 - val_accuracy: 0.8125 - lr: 0.0010 - 9s/epoch - 461ms/step\n",
            "\n",
            "Epoch 5: LearningRateScheduler setting learning rate to 0.0010000000474974513.\n",
            "Epoch 5/25\n",
            "19/19 - 9s - loss: 0.4467 - accuracy: 0.8345 - val_loss: 0.8158 - val_accuracy: 0.8438 - lr: 0.0010 - 9s/epoch - 454ms/step\n",
            "\n",
            "Epoch 6: LearningRateScheduler setting learning rate to 0.0009048373904079199.\n",
            "Epoch 6/25\n",
            "19/19 - 9s - loss: 0.4533 - accuracy: 0.8176 - val_loss: 0.9198 - val_accuracy: 0.7500 - lr: 9.0484e-04 - 9s/epoch - 452ms/step\n",
            "\n",
            "Epoch 7: LearningRateScheduler setting learning rate to 0.0008187306812033057.\n",
            "Epoch 7/25\n",
            "19/19 - 9s - loss: 0.4672 - accuracy: 0.8412 - val_loss: 0.6193 - val_accuracy: 0.7969 - lr: 8.1873e-04 - 9s/epoch - 451ms/step\n",
            "\n",
            "Epoch 8: LearningRateScheduler setting learning rate to 0.000740818097256124.\n",
            "Epoch 8/25\n",
            "19/19 - 8s - loss: 0.4211 - accuracy: 0.8514 - val_loss: 0.8506 - val_accuracy: 0.8125 - lr: 7.4082e-04 - 8s/epoch - 445ms/step\n",
            "\n",
            "Epoch 9: LearningRateScheduler setting learning rate to 0.000670319888740778.\n",
            "Epoch 9/25\n",
            "19/19 - 9s - loss: 0.3660 - accuracy: 0.8480 - val_loss: 0.7062 - val_accuracy: 0.8125 - lr: 6.7032e-04 - 9s/epoch - 450ms/step\n",
            "\n",
            "Epoch 10: LearningRateScheduler setting learning rate to 0.0006065304623916745.\n",
            "Epoch 10/25\n",
            "19/19 - 9s - loss: 0.3468 - accuracy: 0.8581 - val_loss: 0.9243 - val_accuracy: 0.7500 - lr: 6.0653e-04 - 9s/epoch - 452ms/step\n",
            "\n",
            "Epoch 11: LearningRateScheduler setting learning rate to 0.0005488114547915757.\n",
            "Epoch 11/25\n",
            "19/19 - 9s - loss: 0.3316 - accuracy: 0.8851 - val_loss: 0.9118 - val_accuracy: 0.7812 - lr: 5.4881e-04 - 9s/epoch - 447ms/step\n",
            "\n",
            "Epoch 12: LearningRateScheduler setting learning rate to 0.0004965850966982543.\n",
            "Epoch 12/25\n",
            "19/19 - 9s - loss: 0.3044 - accuracy: 0.8914 - val_loss: 1.1108 - val_accuracy: 0.7812 - lr: 4.9659e-04 - 9s/epoch - 458ms/step\n",
            "\n",
            "Epoch 13: LearningRateScheduler setting learning rate to 0.0004493287415243685.\n",
            "Epoch 13/25\n",
            "19/19 - 9s - loss: 0.3063 - accuracy: 0.8818 - val_loss: 0.8567 - val_accuracy: 0.7812 - lr: 4.4933e-04 - 9s/epoch - 454ms/step\n",
            "\n",
            "Epoch 14: LearningRateScheduler setting learning rate to 0.0004065694229211658.\n",
            "Epoch 14/25\n",
            "19/19 - 9s - loss: 0.2635 - accuracy: 0.9145 - val_loss: 1.3657 - val_accuracy: 0.8125 - lr: 4.0657e-04 - 9s/epoch - 451ms/step\n",
            "\n",
            "Epoch 15: LearningRateScheduler setting learning rate to 0.00036787919816561043.\n",
            "Epoch 15/25\n",
            "19/19 - 9s - loss: 0.2592 - accuracy: 0.8986 - val_loss: 0.9236 - val_accuracy: 0.8438 - lr: 3.6788e-04 - 9s/epoch - 450ms/step\n",
            "\n",
            "Epoch 16: LearningRateScheduler setting learning rate to 0.0003328708407934755.\n",
            "Epoch 16/25\n",
            "19/19 - 9s - loss: 0.2749 - accuracy: 0.8818 - val_loss: 1.0840 - val_accuracy: 0.7656 - lr: 3.3287e-04 - 9s/epoch - 450ms/step\n",
            "\n",
            "Epoch 17: LearningRateScheduler setting learning rate to 0.00030119396978989244.\n",
            "Epoch 17/25\n",
            "19/19 - 8s - loss: 0.2601 - accuracy: 0.8986 - val_loss: 1.0164 - val_accuracy: 0.8281 - lr: 3.0119e-04 - 8s/epoch - 445ms/step\n",
            "\n",
            "Epoch 18: LearningRateScheduler setting learning rate to 0.000272531557129696.\n",
            "Epoch 18/25\n",
            "19/19 - 8s - loss: 0.2541 - accuracy: 0.8919 - val_loss: 0.4131 - val_accuracy: 0.8281 - lr: 2.7253e-04 - 8s/epoch - 446ms/step\n",
            "\n",
            "Epoch 19: LearningRateScheduler setting learning rate to 0.0002465967263560742.\n",
            "Epoch 19/25\n",
            "19/19 - 9s - loss: 0.2395 - accuracy: 0.9054 - val_loss: 1.0119 - val_accuracy: 0.8125 - lr: 2.4660e-04 - 9s/epoch - 451ms/step\n",
            "\n",
            "Epoch 20: LearningRateScheduler setting learning rate to 0.0002231299295090139.\n",
            "Epoch 20/25\n",
            "19/19 - 9s - loss: 0.2510 - accuracy: 0.8919 - val_loss: 0.8674 - val_accuracy: 0.8438 - lr: 2.2313e-04 - 9s/epoch - 449ms/step\n",
            "\n",
            "Epoch 21: LearningRateScheduler setting learning rate to 0.0002018962986767292.\n",
            "Epoch 21/25\n",
            "19/19 - 9s - loss: 0.2500 - accuracy: 0.8953 - val_loss: 1.1164 - val_accuracy: 0.7969 - lr: 2.0190e-04 - 9s/epoch - 453ms/step\n",
            "\n",
            "Epoch 22: LearningRateScheduler setting learning rate to 0.00018268331768922508.\n",
            "Epoch 22/25\n",
            "19/19 - 9s - loss: 0.2200 - accuracy: 0.9122 - val_loss: 1.1044 - val_accuracy: 0.7969 - lr: 1.8268e-04 - 9s/epoch - 453ms/step\n",
            "\n",
            "Epoch 23: LearningRateScheduler setting learning rate to 0.00016529869753867388.\n",
            "Epoch 23/25\n",
            "19/19 - 9s - loss: 0.2156 - accuracy: 0.9257 - val_loss: 0.8604 - val_accuracy: 0.8125 - lr: 1.6530e-04 - 9s/epoch - 448ms/step\n",
            "\n",
            "Epoch 24: LearningRateScheduler setting learning rate to 0.00014956844097469002.\n",
            "Epoch 24/25\n",
            "19/19 - 8s - loss: 0.2203 - accuracy: 0.9088 - val_loss: 0.8477 - val_accuracy: 0.8125 - lr: 1.4957e-04 - 8s/epoch - 447ms/step\n",
            "\n",
            "Epoch 25: LearningRateScheduler setting learning rate to 0.0001353351108264178.\n",
            "Epoch 25/25\n",
            "19/19 - 8s - loss: 0.2059 - accuracy: 0.9122 - val_loss: 0.6951 - val_accuracy: 0.8438 - lr: 1.3534e-04 - 8s/epoch - 446ms/step\n"
          ]
        }
      ],
      "source": [
        "batch_size = 16\n",
        "\n",
        "history = model.fit(\n",
        "          train_generator,\n",
        "          steps_per_epoch=312//batch_size,  \n",
        "          epochs=25,  \n",
        "          validation_data=validation_generator, \n",
        "          validation_steps=78//batch_size,  \n",
        "          verbose=2,\n",
        "          callbacks=[lr_schedule, callback])"
      ]
    },
    {
      "cell_type": "code",
      "source": [
        "# Mengambil Nilai Accuracy \n",
        "acc = history.history['accuracy']\n",
        "val_acc = history.history['val_accuracy']\n",
        "# Mengambil Nilai Loss \n",
        "loss = history.history['loss']\n",
        "val_loss = history.history['val_loss']\n",
        "\n",
        "epochs = range(len(acc))\n",
        "\n",
        "# Plot Accruracy\n",
        "plt.plot(epochs, acc, 'r', label='Train accuracy')\n",
        "plt.plot(epochs, val_acc, 'g', label='Validation accuracy')\n",
        "plt.title('Training and validation accuracy')\n",
        "plt.legend(loc=0)\n",
        "plt.figure()\n",
        "plt.show()\n",
        "\n",
        "# Plot Loss\n",
        "plt.plot(epochs, loss, 'r', label='Train loss')\n",
        "plt.plot(epochs, val_loss, 'g', label='Validation loss')\n",
        "plt.title('Training and validation loss')\n",
        "plt.legend(loc=0)\n",
        "plt.figure()\n",
        "plt.show()"
      ],
      "metadata": {
        "colab": {
          "base_uri": "https://localhost:8080/",
          "height": 580
        },
        "id": "6l1tlgBnVI7H",
        "outputId": "4e1abe45-c026-4e8b-d11c-a923bca7604a"
      },
      "execution_count": 106,
      "outputs": [
        {
          "output_type": "display_data",
          "data": {
            "text/plain": [
              "<Figure size 432x288 with 1 Axes>"
            ],
            "image/png": "[encoded data removed]"
          },
          "metadata": {
            "needs_background": "light"
          }
        },
        {
          "output_type": "display_data",
          "data": {
            "text/plain": [
              "<Figure size 432x288 with 0 Axes>"
            ]
          },
          "metadata": {}
        },
        {
          "output_type": "display_data",
          "data": {
            "text/plain": [
              "<Figure size 432x288 with 1 Axes>"
            ],
            "image/png": "[encoded data removed]"
          },
          "metadata": {
            "needs_background": "light"
          }
        },
        {
          "output_type": "display_data",
          "data": {
            "text/plain": [
              "<Figure size 432x288 with 0 Axes>"
            ]
          },
          "metadata": {}
        }
      ]
    }
  ],
  "metadata": {
    "accelerator": "GPU",
    "colab": {
      "collapsed_sections": [],
      "provenance": []
    },
    "kernelspec": {
      "display_name": "Python 3",
      "name": "python3"
    },
    "language_info": {
      "name": "python"
    }
  },
  "nbformat": 4,
  "nbformat_minor": 0
}