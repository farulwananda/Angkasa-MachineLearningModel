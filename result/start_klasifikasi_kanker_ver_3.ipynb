{
  "cells": [
    {
      "cell_type": "code",
      "execution_count": 42,
      "metadata": {
        "id": "Zp0_rPwa1goy"
      },
      "outputs": [],
      "source": [
        "import tensorflow as tf\n",
        "from tensorflow.keras.preprocessing.image import ImageDataGenerator\n",
        "from tensorflow.keras.models import save_model\n",
        "import glob\n",
        "import os \n",
        "import numpy as np\n",
        "from tensorflow.keras import Model\n",
        "from tensorflow.keras.preprocessing import image\n",
        "from tensorflow.keras.layers import Dropout\n",
        "from tensorflow.keras.optimizers import Adam\n",
        "from tensorflow.keras.models import Sequential\n",
        "import matplotlib.pyplot as plt\n",
        "import matplotlib.image as mpimg\n",
        "from google.colab import files\n",
        "%matplotlib inline"
      ]
    },
    {
      "cell_type": "code",
      "execution_count": 43,
      "metadata": {
        "colab": {
          "base_uri": "https://localhost:8080/"
        },
        "id": "56m0OuvIkqKD",
        "outputId": "f5692789-0700-45d5-a3e6-04ac075333be"
      },
      "outputs": [
        {
          "output_type": "stream",
          "name": "stdout",
          "text": [
            "Drive already mounted at /content/drive; to attempt to forcibly remount, call drive.mount(\"/content/drive\", force_remount=True).\n"
          ]
        }
      ],
      "source": [
        "from google.colab import drive\n",
        "drive.mount('/content/drive')"
      ]
    },
    {
      "cell_type": "markdown",
      "metadata": {
        "id": "UAAVKUctT8XF"
      },
      "source": []
    },
    {
      "cell_type": "code",
      "execution_count": 44,
      "metadata": {
        "id": "WyQhY6zp3nKk"
      },
      "outputs": [],
      "source": [
        "base_dir = '/content/drive/MyDrive/Colab Notebooks/assets-cancer'\n",
        "basal_dir = os.path.join(base_dir, 'basal')\n",
        "melanoma_dir = os.path.join(base_dir, 'melanoma')\n",
        "vascular_dir = os.path.join(base_dir, 'vascular')"
      ]
    },
    {
      "cell_type": "markdown",
      "source": [],
      "metadata": {
        "id": "mgZcDvnBYcFD"
      }
    },
    {
      "cell_type": "code",
      "execution_count": 45,
      "metadata": {
        "colab": {
          "base_uri": "https://localhost:8080/"
        },
        "id": "TDYNhU6G4Hix",
        "outputId": "d58cae2b-b630-453c-8ce6-ce7130a82d20"
      },
      "outputs": [
        {
          "output_type": "execute_result",
          "data": {
            "text/plain": [
              "['basal', 'melanoma', 'vascular']"
            ]
          },
          "metadata": {},
          "execution_count": 45
        }
      ],
      "source": [
        "os.listdir('/content/drive/MyDrive/Colab Notebooks/assets-cancer')"
      ]
    },
    {
      "cell_type": "code",
      "execution_count": 46,
      "metadata": {
        "colab": {
          "base_uri": "https://localhost:8080/"
        },
        "id": "FbXbLCXiVVvd",
        "outputId": "41b20c52-b7c6-4e8e-efbe-474e3e6e1856"
      },
      "outputs": [
        {
          "output_type": "stream",
          "name": "stdout",
          "text": [
            "Total Data Image          :  390\n",
            "Total Data Basal          :  130\n",
            "Total Data Melanoma       :  130\n",
            "Total Data Vascular       :  130\n"
          ]
        }
      ],
      "source": [
        "total_image = len(list(glob.iglob(\"/content/drive/MyDrive/Colab Notebooks/assets-cancer/*/*.*\", recursive=True)))\n",
        "print(\"Total Data Image          : \",total_image)\n",
        "\n",
        "total_basal = len(os.listdir(basal_dir))\n",
        "total_melanoma = len(os.listdir(melanoma_dir))\n",
        "total_vascular = len(os.listdir(vascular_dir))\n",
        "\n",
        "# Mencetak jumlah data kanker kulit basal, melanoma, vascular\n",
        "print(\"Total Data Basal          : \",total_basal)\n",
        "print(\"Total Data Melanoma       : \",total_melanoma)\n",
        "print(\"Total Data Vascular       : \",total_vascular)"
      ]
    },
    {
      "cell_type": "code",
      "execution_count": 47,
      "metadata": {
        "id": "0lrV7WCN5fgq"
      },
      "outputs": [],
      "source": [
        "train_datagen = ImageDataGenerator(\n",
        "    rescale=1./255,\n",
        "    rotation_range=25,\n",
        "    horizontal_flip=True,\n",
        "    shear_range = 0.2,\n",
        "    zoom_range = 0.2,\n",
        "    fill_mode = 'nearest',\n",
        "    validation_split = 0.4\n",
        ")\n",
        " \n",
        "val_datagen = ImageDataGenerator(\n",
        "    rescale=1./255,\n",
        "    rotation_range=25,\n",
        "    horizontal_flip=True,\n",
        "    shear_range = 0.2,\n",
        "    zoom_range = 0.2,\n",
        "    fill_mode = 'nearest',\n",
        "    validation_split = 0.4                                    \n",
        ")"
      ]
    },
    {
      "cell_type": "code",
      "execution_count": 48,
      "metadata": {
        "colab": {
          "base_uri": "https://localhost:8080/"
        },
        "id": "lZgrV-AW5t98",
        "outputId": "6ad4dfc9-d289-42c1-d5d5-c0d45cae8408"
      },
      "outputs": [
        {
          "output_type": "stream",
          "name": "stdout",
          "text": [
            "Found 234 images belonging to 3 classes.\n",
            "Found 156 images belonging to 3 classes.\n"
          ]
        }
      ],
      "source": [
        "train_generator = train_datagen.flow_from_directory(\n",
        "    base_dir,\n",
        "    target_size = (150,150),\n",
        "    batch_size = 16,\n",
        "    shuffle = True,\n",
        "    color_mode = \"rgb\",\n",
        "    class_mode = \"categorical\",\n",
        "    subset = \"training\"\n",
        "    \n",
        ")\n",
        "\n",
        "validation_generator = val_datagen.flow_from_directory(\n",
        "    base_dir,\n",
        "    target_size = (150,150),\n",
        "    batch_size = 16,\n",
        "    shuffle = False,\n",
        "    color_mode = \"rgb\",\n",
        "    class_mode = \"categorical\",\n",
        "    subset = \"validation\"\n",
        "    \n",
        ")"
      ]
    },
    {
      "cell_type": "code",
      "execution_count": 49,
      "metadata": {
        "id": "6r4PWWzf7eyq"
      },
      "outputs": [],
      "source": [
        "model = tf.keras.models.Sequential([\n",
        "    tf.keras.layers.Conv2D(32, (3,3), strides = (1,1),  activation='relu', input_shape=(150, 150, 3)),\n",
        "    tf.keras.layers.MaxPooling2D(pool_size = (2,2), padding = 'valid'), \n",
        "    tf.keras.layers.Conv2D(64, (3,3), strides = (1,1), activation='relu'),\n",
        "    tf.keras.layers.MaxPooling2D(pool_size = (2,2), padding = 'valid'),\n",
        "    tf.keras.layers.Conv2D(128, (3,3), strides = (1,1), activation='relu'),\n",
        "    tf.keras.layers.MaxPooling2D(pool_size = (2,2), padding = 'valid'),\n",
        "    tf.keras.layers.Flatten(),\n",
        "\n",
        "    tf.keras.layers.Dropout(0.5),\n",
        "\n",
        "    tf.keras.layers.Dense(128, activation='relu'),\n",
        "    tf.keras.layers.Dense(3, activation='softmax')\n",
        "])\n"
      ]
    },
    {
      "cell_type": "code",
      "execution_count": 50,
      "metadata": {
        "id": "O_swcwPA7h10"
      },
      "outputs": [],
      "source": [
        "Adam(learning_rate=0.00146, name='Adam')\n",
        "model.compile(optimizer = 'Adam',loss = 'categorical_crossentropy',metrics = ['accuracy'])"
      ]
    },
    {
      "cell_type": "code",
      "source": [
        "def scheduler(epoch, lr):\n",
        "  if epoch < 5:\n",
        "    return lr\n",
        "  else:\n",
        "    return lr * tf.math.exp(-0.1)\n",
        "\n",
        "lr_schedule = tf.keras.callbacks.LearningRateScheduler(scheduler, verbose=1)\n",
        "tb_callback = tf.keras.callbacks.TensorBoard(\n",
        "    log_dir='logs', histogram_freq=0, write_graph=True, write_images=False,\n",
        "    update_freq='epoch', embeddings_freq=0,\n",
        "    embeddings_metadata=None\n",
        ")\n",
        "\n",
        "model.summary()"
      ],
      "metadata": {
        "colab": {
          "base_uri": "https://localhost:8080/"
        },
        "id": "lYwTYruiJ4Cd",
        "outputId": "e3356579-a08c-447a-86d0-26d6a5a7e9e9"
      },
      "execution_count": 51,
      "outputs": [
        {
          "output_type": "stream",
          "name": "stdout",
          "text": [
            "Model: \"sequential_6\"\n",
            "_________________________________________________________________\n",
            " Layer (type)                Output Shape              Param #   \n",
            "=================================================================\n",
            " conv2d_18 (Conv2D)          (None, 148, 148, 32)      896       \n",
            "                                                                 \n",
            " max_pooling2d_18 (MaxPoolin  (None, 74, 74, 32)       0         \n",
            " g2D)                                                            \n",
            "                                                                 \n",
            " conv2d_19 (Conv2D)          (None, 72, 72, 64)        18496     \n",
            "                                                                 \n",
            " max_pooling2d_19 (MaxPoolin  (None, 36, 36, 64)       0         \n",
            " g2D)                                                            \n",
            "                                                                 \n",
            " conv2d_20 (Conv2D)          (None, 34, 34, 128)       73856     \n",
            "                                                                 \n",
            " max_pooling2d_20 (MaxPoolin  (None, 17, 17, 128)      0         \n",
            " g2D)                                                            \n",
            "                                                                 \n",
            " flatten_6 (Flatten)         (None, 36992)             0         \n",
            "                                                                 \n",
            " dropout_6 (Dropout)         (None, 36992)             0         \n",
            "                                                                 \n",
            " dense_12 (Dense)            (None, 128)               4735104   \n",
            "                                                                 \n",
            " dense_13 (Dense)            (None, 3)                 387       \n",
            "                                                                 \n",
            "=================================================================\n",
            "Total params: 4,828,739\n",
            "Trainable params: 4,828,739\n",
            "Non-trainable params: 0\n",
            "_________________________________________________________________\n"
          ]
        }
      ]
    },
    {
      "cell_type": "code",
      "execution_count": 52,
      "metadata": {
        "id": "0_ySsb4T7lG9"
      },
      "outputs": [],
      "source": [
        "accuracy = 0.97\n",
        "\n",
        "class func_callback(tf.keras.callbacks.Callback):\n",
        "\tdef on_epoch_end(self, epoch, logs={}):\n",
        "\t\tif(logs.get('accuracy') >= accuracy):\n",
        "\t\t\tprint(\"Akurasi Telah Mencapai %2.2f%% , Proses Training Dihentikan.\" %(accuracy*100))\n",
        "\t\t\tself.model.stop_training = True\n",
        "      \n",
        "callback = func_callback()"
      ]
    },
    {
      "cell_type": "code",
      "execution_count": 53,
      "metadata": {
        "colab": {
          "base_uri": "https://localhost:8080/"
        },
        "id": "fWxXOo6q7noP",
        "outputId": "39aa627d-0f70-4358-aa00-229de80cf370"
      },
      "outputs": [
        {
          "output_type": "stream",
          "name": "stdout",
          "text": [
            "\n",
            "Epoch 1: LearningRateScheduler setting learning rate to 0.0010000000474974513.\n",
            "Epoch 1/35\n",
            "14/14 - 10s - loss: 1.1606 - accuracy: 0.3716 - val_loss: 1.0633 - val_accuracy: 0.3681 - lr: 0.0010 - 10s/epoch - 740ms/step\n",
            "\n",
            "Epoch 2: LearningRateScheduler setting learning rate to 0.0010000000474974513.\n",
            "Epoch 2/35\n",
            "14/14 - 10s - loss: 0.9451 - accuracy: 0.4955 - val_loss: 0.6774 - val_accuracy: 0.6250 - lr: 0.0010 - 10s/epoch - 689ms/step\n",
            "\n",
            "Epoch 3: LearningRateScheduler setting learning rate to 0.0010000000474974513.\n",
            "Epoch 3/35\n",
            "14/14 - 9s - loss: 0.7323 - accuracy: 0.6193 - val_loss: 0.6352 - val_accuracy: 0.6458 - lr: 0.0010 - 9s/epoch - 667ms/step\n",
            "\n",
            "Epoch 4: LearningRateScheduler setting learning rate to 0.0010000000474974513.\n",
            "Epoch 4/35\n",
            "14/14 - 9s - loss: 0.6229 - accuracy: 0.8028 - val_loss: 0.6137 - val_accuracy: 0.7986 - lr: 0.0010 - 9s/epoch - 662ms/step\n",
            "\n",
            "Epoch 5: LearningRateScheduler setting learning rate to 0.0010000000474974513.\n",
            "Epoch 5/35\n",
            "14/14 - 9s - loss: 0.5060 - accuracy: 0.7706 - val_loss: 0.4448 - val_accuracy: 0.8403 - lr: 0.0010 - 9s/epoch - 665ms/step\n",
            "\n",
            "Epoch 6: LearningRateScheduler setting learning rate to 0.0009048373904079199.\n",
            "Epoch 6/35\n",
            "14/14 - 9s - loss: 0.4633 - accuracy: 0.8303 - val_loss: 0.6669 - val_accuracy: 0.7569 - lr: 9.0484e-04 - 9s/epoch - 674ms/step\n",
            "\n",
            "Epoch 7: LearningRateScheduler setting learning rate to 0.0008187306812033057.\n",
            "Epoch 7/35\n",
            "14/14 - 9s - loss: 0.3880 - accuracy: 0.8257 - val_loss: 0.5223 - val_accuracy: 0.8264 - lr: 8.1873e-04 - 9s/epoch - 668ms/step\n",
            "\n",
            "Epoch 8: LearningRateScheduler setting learning rate to 0.000740818097256124.\n",
            "Epoch 8/35\n",
            "14/14 - 10s - loss: 0.3719 - accuracy: 0.8670 - val_loss: 0.5546 - val_accuracy: 0.8472 - lr: 7.4082e-04 - 10s/epoch - 680ms/step\n",
            "\n",
            "Epoch 9: LearningRateScheduler setting learning rate to 0.000670319888740778.\n",
            "Epoch 9/35\n",
            "14/14 - 9s - loss: 0.3143 - accuracy: 0.8761 - val_loss: 0.6134 - val_accuracy: 0.8403 - lr: 6.7032e-04 - 9s/epoch - 653ms/step\n",
            "\n",
            "Epoch 10: LearningRateScheduler setting learning rate to 0.0006065304623916745.\n",
            "Epoch 10/35\n",
            "14/14 - 9s - loss: 0.4077 - accuracy: 0.8440 - val_loss: 0.7314 - val_accuracy: 0.8403 - lr: 6.0653e-04 - 9s/epoch - 657ms/step\n",
            "\n",
            "Epoch 11: LearningRateScheduler setting learning rate to 0.0005488114547915757.\n",
            "Epoch 11/35\n",
            "14/14 - 9s - loss: 0.3197 - accuracy: 0.8761 - val_loss: 0.6116 - val_accuracy: 0.8194 - lr: 5.4881e-04 - 9s/epoch - 662ms/step\n",
            "\n",
            "Epoch 12: LearningRateScheduler setting learning rate to 0.0004965850966982543.\n",
            "Epoch 12/35\n",
            "14/14 - 9s - loss: 0.2620 - accuracy: 0.8899 - val_loss: 0.6215 - val_accuracy: 0.8403 - lr: 4.9659e-04 - 9s/epoch - 668ms/step\n",
            "\n",
            "Epoch 13: LearningRateScheduler setting learning rate to 0.0004493287415243685.\n",
            "Epoch 13/35\n",
            "14/14 - 9s - loss: 0.2925 - accuracy: 0.8991 - val_loss: 0.6950 - val_accuracy: 0.8194 - lr: 4.4933e-04 - 9s/epoch - 665ms/step\n",
            "\n",
            "Epoch 14: LearningRateScheduler setting learning rate to 0.0004065694229211658.\n",
            "Epoch 14/35\n",
            "14/14 - 9s - loss: 0.3179 - accuracy: 0.8945 - val_loss: 0.7428 - val_accuracy: 0.8403 - lr: 4.0657e-04 - 9s/epoch - 670ms/step\n",
            "\n",
            "Epoch 15: LearningRateScheduler setting learning rate to 0.00036787919816561043.\n",
            "Epoch 15/35\n",
            "14/14 - 9s - loss: 0.2843 - accuracy: 0.8929 - val_loss: 0.6751 - val_accuracy: 0.8194 - lr: 3.6788e-04 - 9s/epoch - 671ms/step\n",
            "\n",
            "Epoch 16: LearningRateScheduler setting learning rate to 0.0003328708407934755.\n",
            "Epoch 16/35\n",
            "14/14 - 9s - loss: 0.2657 - accuracy: 0.8991 - val_loss: 0.9283 - val_accuracy: 0.8264 - lr: 3.3287e-04 - 9s/epoch - 670ms/step\n",
            "\n",
            "Epoch 17: LearningRateScheduler setting learning rate to 0.00030119396978989244.\n",
            "Epoch 17/35\n",
            "14/14 - 9s - loss: 0.2668 - accuracy: 0.8991 - val_loss: 0.8515 - val_accuracy: 0.8264 - lr: 3.0119e-04 - 9s/epoch - 668ms/step\n",
            "\n",
            "Epoch 18: LearningRateScheduler setting learning rate to 0.000272531557129696.\n",
            "Epoch 18/35\n",
            "14/14 - 9s - loss: 0.2505 - accuracy: 0.8945 - val_loss: 0.6381 - val_accuracy: 0.8403 - lr: 2.7253e-04 - 9s/epoch - 658ms/step\n",
            "\n",
            "Epoch 19: LearningRateScheduler setting learning rate to 0.0002465967263560742.\n",
            "Epoch 19/35\n",
            "14/14 - 9s - loss: 0.2604 - accuracy: 0.8853 - val_loss: 0.7011 - val_accuracy: 0.8264 - lr: 2.4660e-04 - 9s/epoch - 653ms/step\n",
            "\n",
            "Epoch 20: LearningRateScheduler setting learning rate to 0.0002231299295090139.\n",
            "Epoch 20/35\n",
            "14/14 - 9s - loss: 0.2414 - accuracy: 0.9083 - val_loss: 0.7269 - val_accuracy: 0.8264 - lr: 2.2313e-04 - 9s/epoch - 661ms/step\n",
            "\n",
            "Epoch 21: LearningRateScheduler setting learning rate to 0.0002018962986767292.\n",
            "Epoch 21/35\n",
            "14/14 - 9s - loss: 0.2304 - accuracy: 0.8899 - val_loss: 0.7227 - val_accuracy: 0.8194 - lr: 2.0190e-04 - 9s/epoch - 670ms/step\n",
            "\n",
            "Epoch 22: LearningRateScheduler setting learning rate to 0.00018268331768922508.\n",
            "Epoch 22/35\n",
            "14/14 - 9s - loss: 0.2200 - accuracy: 0.9174 - val_loss: 0.8511 - val_accuracy: 0.8403 - lr: 1.8268e-04 - 9s/epoch - 665ms/step\n",
            "\n",
            "Epoch 23: LearningRateScheduler setting learning rate to 0.00016529869753867388.\n",
            "Epoch 23/35\n",
            "14/14 - 9s - loss: 0.2751 - accuracy: 0.8853 - val_loss: 0.6257 - val_accuracy: 0.8264 - lr: 1.6530e-04 - 9s/epoch - 662ms/step\n",
            "\n",
            "Epoch 24: LearningRateScheduler setting learning rate to 0.00014956844097469002.\n",
            "Epoch 24/35\n",
            "14/14 - 9s - loss: 0.2163 - accuracy: 0.9220 - val_loss: 0.7526 - val_accuracy: 0.8333 - lr: 1.4957e-04 - 9s/epoch - 674ms/step\n",
            "\n",
            "Epoch 25: LearningRateScheduler setting learning rate to 0.0001353351108264178.\n",
            "Epoch 25/35\n",
            "14/14 - 9s - loss: 0.2042 - accuracy: 0.9312 - val_loss: 0.7913 - val_accuracy: 0.8264 - lr: 1.3534e-04 - 9s/epoch - 668ms/step\n",
            "\n",
            "Epoch 26: LearningRateScheduler setting learning rate to 0.00012245627294760197.\n",
            "Epoch 26/35\n",
            "14/14 - 9s - loss: 0.1799 - accuracy: 0.9266 - val_loss: 0.7554 - val_accuracy: 0.8333 - lr: 1.2246e-04 - 9s/epoch - 657ms/step\n",
            "\n",
            "Epoch 27: LearningRateScheduler setting learning rate to 0.00011080301192123443.\n",
            "Epoch 27/35\n",
            "14/14 - 9s - loss: 0.2081 - accuracy: 0.9128 - val_loss: 0.7486 - val_accuracy: 0.8403 - lr: 1.1080e-04 - 9s/epoch - 660ms/step\n",
            "\n",
            "Epoch 28: LearningRateScheduler setting learning rate to 0.00010025870869867504.\n",
            "Epoch 28/35\n",
            "14/14 - 9s - loss: 0.1999 - accuracy: 0.9266 - val_loss: 0.7990 - val_accuracy: 0.8333 - lr: 1.0026e-04 - 9s/epoch - 660ms/step\n",
            "\n",
            "Epoch 29: LearningRateScheduler setting learning rate to 9.071782551473007e-05.\n",
            "Epoch 29/35\n",
            "14/14 - 9s - loss: 0.1927 - accuracy: 0.9128 - val_loss: 0.7785 - val_accuracy: 0.8125 - lr: 9.0718e-05 - 9s/epoch - 662ms/step\n",
            "\n",
            "Epoch 30: LearningRateScheduler setting learning rate to 8.208487997762859e-05.\n",
            "Epoch 30/35\n",
            "14/14 - 9s - loss: 0.1875 - accuracy: 0.9312 - val_loss: 0.8879 - val_accuracy: 0.8333 - lr: 8.2085e-05 - 9s/epoch - 662ms/step\n",
            "\n",
            "Epoch 31: LearningRateScheduler setting learning rate to 7.427347009070218e-05.\n",
            "Epoch 31/35\n",
            "14/14 - 9s - loss: 0.1754 - accuracy: 0.9174 - val_loss: 0.7599 - val_accuracy: 0.8333 - lr: 7.4273e-05 - 9s/epoch - 663ms/step\n",
            "\n",
            "Epoch 32: LearningRateScheduler setting learning rate to 6.720540841342881e-05.\n",
            "Epoch 32/35\n",
            "14/14 - 9s - loss: 0.1792 - accuracy: 0.9266 - val_loss: 0.8291 - val_accuracy: 0.8194 - lr: 6.7205e-05 - 9s/epoch - 657ms/step\n",
            "\n",
            "Epoch 33: LearningRateScheduler setting learning rate to 6.080996536184102e-05.\n",
            "Epoch 33/35\n",
            "14/14 - 9s - loss: 0.1745 - accuracy: 0.9330 - val_loss: 0.8338 - val_accuracy: 0.8264 - lr: 6.0810e-05 - 9s/epoch - 663ms/step\n",
            "\n",
            "Epoch 34: LearningRateScheduler setting learning rate to 5.502313069882803e-05.\n",
            "Epoch 34/35\n",
            "14/14 - 9s - loss: 0.1768 - accuracy: 0.9312 - val_loss: 0.8425 - val_accuracy: 0.8194 - lr: 5.5023e-05 - 9s/epoch - 656ms/step\n",
            "\n",
            "Epoch 35: LearningRateScheduler setting learning rate to 4.978698416380212e-05.\n",
            "Epoch 35/35\n",
            "14/14 - 9s - loss: 0.1917 - accuracy: 0.9174 - val_loss: 0.8030 - val_accuracy: 0.8333 - lr: 4.9787e-05 - 9s/epoch - 651ms/step\n"
          ]
        },
        {
          "output_type": "execute_result",
          "data": {
            "text/plain": [
              "<keras.callbacks.History at 0x7f5fa244f850>"
            ]
          },
          "metadata": {},
          "execution_count": 53
        }
      ],
      "source": [
        "batch_size = 16\n",
        "\n",
        "model.fit(\n",
        "      train_generator,\n",
        "      steps_per_epoch=234//batch_size,  \n",
        "      epochs=35,  \n",
        "      validation_data=validation_generator, \n",
        "      validation_steps=156//batch_size,  \n",
        "      verbose=2,\n",
        "      callbacks=[lr_schedule, callback])"
      ]
    },
    {
      "cell_type": "code",
      "execution_count": 57,
      "metadata": {
        "colab": {
          "base_uri": "https://localhost:8080/",
          "height": 430
        },
        "id": "Jj9b7-LTLqjq",
        "outputId": "e5835498-7da2-479d-a56b-260bc7d69c7d"
      },
      "outputs": [
        {
          "output_type": "display_data",
          "data": {
            "text/plain": [
              "<IPython.core.display.HTML object>"
            ],
            "text/html": [
              "\n",
              "     <input type=\"file\" id=\"files-b5e4c49f-ea3f-4686-8950-586f80d85b48\" name=\"files[]\" multiple disabled\n",
              "        style=\"border:none\" />\n",
              "     <output id=\"result-b5e4c49f-ea3f-4686-8950-586f80d85b48\">\n",
              "      Upload widget is only available when the cell has been executed in the\n",
              "      current browser session. Please rerun this cell to enable.\n",
              "      </output>\n",
              "      <script>// Copyright 2017 Google LLC\n",
              "//\n",
              "// Licensed under the Apache License, Version 2.0 (the \"License\");\n",
              "// you may not use this file except in compliance with the License.\n",
              "// You may obtain a copy of the License at\n",
              "//\n",
              "//      http://www.apache.org/licenses/LICENSE-2.0\n",
              "//\n",
              "// Unless required by applicable law or agreed to in writing, software\n",
              "// distributed under the License is distributed on an \"AS IS\" BASIS,\n",
              "// WITHOUT WARRANTIES OR CONDITIONS OF ANY KIND, either express or implied.\n",
              "// See the License for the specific language governing permissions and\n",
              "// limitations under the License.\n",
              "\n",
              "/**\n",
              " * @fileoverview Helpers for google.colab Python module.\n",
              " */\n",
              "(function(scope) {\n",
              "function span(text, styleAttributes = {}) {\n",
              "  const element = document.createElement('span');\n",
              "  element.textContent = text;\n",
              "  for (const key of Object.keys(styleAttributes)) {\n",
              "    element.style[key] = styleAttributes[key];\n",
              "  }\n",
              "  return element;\n",
              "}\n",
              "\n",
              "// Max number of bytes which will be uploaded at a time.\n",
              "const MAX_PAYLOAD_SIZE = 100 * 1024;\n",
              "\n",
              "function _uploadFiles(inputId, outputId) {\n",
              "  const steps = uploadFilesStep(inputId, outputId);\n",
              "  const outputElement = document.getElementById(outputId);\n",
              "  // Cache steps on the outputElement to make it available for the next call\n",
              "  // to uploadFilesContinue from Python.\n",
              "  outputElement.steps = steps;\n",
              "\n",
              "  return _uploadFilesContinue(outputId);\n",
              "}\n",
              "\n",
              "// This is roughly an async generator (not supported in the browser yet),\n",
              "// where there are multiple asynchronous steps and the Python side is going\n",
              "// to poll for completion of each step.\n",
              "// This uses a Promise to block the python side on completion of each step,\n",
              "// then passes the result of the previous step as the input to the next step.\n",
              "function _uploadFilesContinue(outputId) {\n",
              "  const outputElement = document.getElementById(outputId);\n",
              "  const steps = outputElement.steps;\n",
              "\n",
              "  const next = steps.next(outputElement.lastPromiseValue);\n",
              "  return Promise.resolve(next.value.promise).then((value) => {\n",
              "    // Cache the last promise value to make it available to the next\n",
              "    // step of the generator.\n",
              "    outputElement.lastPromiseValue = value;\n",
              "    return next.value.response;\n",
              "  });\n",
              "}\n",
              "\n",
              "/**\n",
              " * Generator function which is called between each async step of the upload\n",
              " * process.\n",
              " * @param {string} inputId Element ID of the input file picker element.\n",
              " * @param {string} outputId Element ID of the output display.\n",
              " * @return {!Iterable<!Object>} Iterable of next steps.\n",
              " */\n",
              "function* uploadFilesStep(inputId, outputId) {\n",
              "  const inputElement = document.getElementById(inputId);\n",
              "  inputElement.disabled = false;\n",
              "\n",
              "  const outputElement = document.getElementById(outputId);\n",
              "  outputElement.innerHTML = '';\n",
              "\n",
              "  const pickedPromise = new Promise((resolve) => {\n",
              "    inputElement.addEventListener('change', (e) => {\n",
              "      resolve(e.target.files);\n",
              "    });\n",
              "  });\n",
              "\n",
              "  const cancel = document.createElement('button');\n",
              "  inputElement.parentElement.appendChild(cancel);\n",
              "  cancel.textContent = 'Cancel upload';\n",
              "  const cancelPromise = new Promise((resolve) => {\n",
              "    cancel.onclick = () => {\n",
              "      resolve(null);\n",
              "    };\n",
              "  });\n",
              "\n",
              "  // Wait for the user to pick the files.\n",
              "  const files = yield {\n",
              "    promise: Promise.race([pickedPromise, cancelPromise]),\n",
              "    response: {\n",
              "      action: 'starting',\n",
              "    }\n",
              "  };\n",
              "\n",
              "  cancel.remove();\n",
              "\n",
              "  // Disable the input element since further picks are not allowed.\n",
              "  inputElement.disabled = true;\n",
              "\n",
              "  if (!files) {\n",
              "    return {\n",
              "      response: {\n",
              "        action: 'complete',\n",
              "      }\n",
              "    };\n",
              "  }\n",
              "\n",
              "  for (const file of files) {\n",
              "    const li = document.createElement('li');\n",
              "    li.append(span(file.name, {fontWeight: 'bold'}));\n",
              "    li.append(span(\n",
              "        `(${file.type || 'n/a'}) - ${file.size} bytes, ` +\n",
              "        `last modified: ${\n",
              "            file.lastModifiedDate ? file.lastModifiedDate.toLocaleDateString() :\n",
              "                                    'n/a'} - `));\n",
              "    const percent = span('0% done');\n",
              "    li.appendChild(percent);\n",
              "\n",
              "    outputElement.appendChild(li);\n",
              "\n",
              "    const fileDataPromise = new Promise((resolve) => {\n",
              "      const reader = new FileReader();\n",
              "      reader.onload = (e) => {\n",
              "        resolve(e.target.result);\n",
              "      };\n",
              "      reader.readAsArrayBuffer(file);\n",
              "    });\n",
              "    // Wait for the data to be ready.\n",
              "    let fileData = yield {\n",
              "      promise: fileDataPromise,\n",
              "      response: {\n",
              "        action: 'continue',\n",
              "      }\n",
              "    };\n",
              "\n",
              "    // Use a chunked sending to avoid message size limits. See b/62115660.\n",
              "    let position = 0;\n",
              "    do {\n",
              "      const length = Math.min(fileData.byteLength - position, MAX_PAYLOAD_SIZE);\n",
              "      const chunk = new Uint8Array(fileData, position, length);\n",
              "      position += length;\n",
              "\n",
              "      const base64 = btoa(String.fromCharCode.apply(null, chunk));\n",
              "      yield {\n",
              "        response: {\n",
              "          action: 'append',\n",
              "          file: file.name,\n",
              "          data: base64,\n",
              "        },\n",
              "      };\n",
              "\n",
              "      let percentDone = fileData.byteLength === 0 ?\n",
              "          100 :\n",
              "          Math.round((position / fileData.byteLength) * 100);\n",
              "      percent.textContent = `${percentDone}% done`;\n",
              "\n",
              "    } while (position < fileData.byteLength);\n",
              "  }\n",
              "\n",
              "  // All done.\n",
              "  yield {\n",
              "    response: {\n",
              "      action: 'complete',\n",
              "    }\n",
              "  };\n",
              "}\n",
              "\n",
              "scope.google = scope.google || {};\n",
              "scope.google.colab = scope.google.colab || {};\n",
              "scope.google.colab._files = {\n",
              "  _uploadFiles,\n",
              "  _uploadFilesContinue,\n",
              "};\n",
              "})(self);\n",
              "</script> "
            ]
          },
          "metadata": {}
        },
        {
          "output_type": "stream",
          "name": "stdout",
          "text": [
            "Saving ISIC_0024706.jpg to ISIC_0024706.jpg\n",
            "1/1 [==============================] - 0s 15ms/step\n",
            "\n",
            "\n",
            "Hasil Prediksi :  [0. 0. 1.] \n",
            "\n",
            "vascular\n"
          ]
        },
        {
          "output_type": "display_data",
          "data": {
            "text/plain": [
              "<Figure size 432x288 with 1 Axes>"
            ],
            "image/png": "[encoded data removed]"
          },
          "metadata": {
            "needs_background": "light"
          }
        }
      ],
      "source": [
        "uploaded = files.upload()\n",
        " \n",
        "for fn in uploaded.keys():\n",
        " \n",
        "  # predicting images\n",
        "  path = fn\n",
        "  img = image.load_img(path, target_size=(150,150))\n",
        " \n",
        "  imgplot = plt.imshow(img)\n",
        "  x = image.img_to_array(img)\n",
        "  x = np.expand_dims(x, axis=0)\n",
        "  images = np.vstack([x])\n",
        " \n",
        "  classes = model.predict(images, batch_size=10)  \n",
        "\n",
        "  print(\"\\n\")\n",
        "  print('Hasil Prediksi : ',classes[0],'\\n')\n",
        "\n",
        "  if classes [0, 0] == 1:\n",
        "   print('basal')\n",
        "  elif classes [0, 1] == 1:\n",
        "   print('melanoma')\n",
        "  elif classes [0, 2] == 1:\n",
        "    print('vascular')"
      ]
    }
  ],
  "metadata": {
    "accelerator": "GPU",
    "colab": {
      "collapsed_sections": [],
      "provenance": []
    },
    "kernelspec": {
      "display_name": "Python 3",
      "name": "python3"
    },
    "language_info": {
      "name": "python"
    }
  },
  "nbformat": 4,
  "nbformat_minor": 0
}